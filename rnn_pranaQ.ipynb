{
 "cells": [
  {
   "cell_type": "code",
   "execution_count": 1,
   "metadata": {
    "id": "71c626bbac35",
    "tags": []
   },
   "outputs": [],
   "source": [
    "import numpy as np\n",
    "import tensorflow as tf\n",
    "from tensorflow import keras\n",
    "from tensorflow.keras import layers\n",
    "from sklearn.model_selection import KFold"
   ]
  },
  {
   "cell_type": "markdown",
   "metadata": {},
   "source": [
    "## Config"
   ]
  },
  {
   "cell_type": "code",
   "execution_count": 7,
   "metadata": {},
   "outputs": [],
   "source": [
    "# Cross validation\n",
    "num_folds = 4\n",
    "\n",
    "# Model parameter \n",
    "batch_size = 10\n",
    "epochs = 100\n",
    "loss = tf.keras.losses.CategoricalCrossentropy()\n",
    "optimizer = tf.keras.optimizers.RMSprop()\n",
    "\n",
    "# early stopping\n",
    "callback = tf.keras.callbacks.EarlyStopping(monitor='loss', patience=5)"
   ]
  },
  {
   "cell_type": "markdown",
   "metadata": {},
   "source": [
    "## Model"
   ]
  },
  {
   "cell_type": "code",
   "execution_count": 6,
   "metadata": {
    "id": "a5617759e54e",
    "tags": []
   },
   "outputs": [],
   "source": [
    "def build_model():\n",
    "    # Sequential\n",
    "    model = keras.Sequential()\n",
    "\n",
    "    # 1st Perceptron layer\n",
    "    model.add(layers.Dense(128, activation='sigmoid', input_shape=(None, 132)))\n",
    "    model.add(layers.Dropout(.2))\n",
    "\n",
    "    # Add 3 bidirectional LSTM layers with 32 internal units.\n",
    "    model.add(layers.Bidirectional(layers.LSTM(32, activation='sigmoid', return_sequences=True, dropout=.5, recurrent_dropout=.5)))\n",
    "    model.add(layers.Bidirectional(layers.LSTM(32, activation='sigmoid', return_sequences=True, dropout=.5, recurrent_dropout=.5)))\n",
    "    model.add(layers.Bidirectional(layers.LSTM(32, activation='sigmoid', return_sequences=True, dropout=.5, recurrent_dropout=.5)))\n",
    "\n",
    "    # Add 2 Perceptron layers with 32 units.\n",
    "    model.add(layers.Dense(32, activation='sigmoid'))\n",
    "    model.add(layers.Dense(32, activation='sigmoid'))\n",
    "\n",
    "    # Final layer for classification\n",
    "    model.add(layers.Dense(4, activation='softmax'))\n",
    "    # model.summary()\n",
    "    return model"
   ]
  },
  {
   "cell_type": "markdown",
   "metadata": {},
   "source": [
    "## Import Data"
   ]
  },
  {
   "cell_type": "code",
   "execution_count": null,
   "metadata": {},
   "outputs": [],
   "source": [
    "tf.datal"
   ]
  },
  {
   "cell_type": "code",
   "execution_count": null,
   "metadata": {},
   "outputs": [],
   "source": [
    "# Define per-fold score containers <-- these are new\n",
    "acc_per_fold = []\n",
    "loss_per_fold = []\n",
    "training_history = []"
   ]
  },
  {
   "cell_type": "code",
   "execution_count": null,
   "metadata": {},
   "outputs": [],
   "source": [
    "fold_no = 1\n",
    "for train, test in kfold.split(inputs, targets):\n",
    "    model = build_model()\n",
    "    model.compile(loss=loss, \n",
    "                  optimizer=optimizer, \n",
    "                  metrics=[\"accuracy\"])\n",
    "    \n",
    "    print('------------------------------------------------------------------------')\n",
    "    print('Training for fold {} ...'.format(fold_no))\n",
    "    history = model.fit(inputs[train], targets[train], batch_size=batch_size, epochs=epochs, callbacks=[callback])\n",
    "    training_history.append(history)\n",
    "    scores = model.evaluate(inputs[test], targets[test], verbose=0)\n",
    "    print('Score for fold {}: {} of {}; {} of {}%'.format(fold_no, model.metrics_names[0], scores[0], model.metrics_names[1], scores[1]*100))\n",
    "    acc_per_fold.append(scores[1] * 100)\n",
    "    loss_per_fold.append(scores[0])\n",
    "\n",
    "    # Increase fold number\n",
    "    fold_no += 1"
   ]
  },
  {
   "cell_type": "code",
   "execution_count": null,
   "metadata": {},
   "outputs": [],
   "source": []
  },
  {
   "cell_type": "code",
   "execution_count": null,
   "metadata": {},
   "outputs": [],
   "source": []
  }
 ],
 "metadata": {
  "colab": {
   "collapsed_sections": [],
   "name": "rnn.ipynb",
   "toc_visible": true
  },
  "kernelspec": {
   "display_name": "Python 3 (ipykernel)",
   "language": "python",
   "name": "python3"
  },
  "language_info": {
   "codemirror_mode": {
    "name": "ipython",
    "version": 3
   },
   "file_extension": ".py",
   "mimetype": "text/x-python",
   "name": "python",
   "nbconvert_exporter": "python",
   "pygments_lexer": "ipython3",
   "version": "3.9.7"
  }
 },
 "nbformat": 4,
 "nbformat_minor": 4
}
